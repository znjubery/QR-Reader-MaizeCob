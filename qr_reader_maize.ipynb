{
 "cells": [
  {
   "cell_type": "code",
   "execution_count": null,
   "metadata": {},
   "outputs": [],
   "source": [
    "!pip install pyzbar pillow\n",
    "\n",
    "import os\n",
    "from pyzbar.pyzbar import decode as qr_decode\n",
    "from PIL import Image\n",
    "\n",
    "def rename_files_based_on_qr_code(directory, output_directory):\n",
    "    \"\"\"\n",
    "    This function reads the PNG, JPG, or JPEG files in the input folder and renames them based on the QR code data.\n",
    "\n",
    "    :param directory: The directory containing the files to be renamed.\n",
    "    :param output_directory: The directory to save the renamed files.\n",
    "    \"\"\"\n",
    "\n",
    "    # Create the output directory if it doesn't exist\n",
    "    if not os.path.exists(output_directory):\n",
    "        os.makedirs(output_directory)\n",
    "\n",
    "    # Iterate through all files in the directory\n",
    "    for filename in os.listdir(directory):\n",
    "        file_path = os.path.join(directory, filename)\n",
    "        \n",
    "        # Check if the file is an image\n",
    "        if not filename.lower().endswith(('.png', '.jpg', '.jpeg')):\n",
    "            continue\n",
    "\n",
    "        # Load the image using PIL (Python Imaging Library)\n",
    "        image = Image.open(file_path)\n",
    "        try: \n",
    "            # Decode the QR codes in the image using pyzbar\n",
    "            decoded_qr_codes = qr_decode(image)\n",
    "    \n",
    "            # if our file have the only one item ,or it has the multi qr code but all of them is the same\n",
    "            qr_code_data = [item.data.decode('utf-8') for item in decoded_qr_codes]\n",
    "            sanity = all(item == qr_code_data[0] for item in qr_code_data)\n",
    "    \n",
    "            if sanity:\n",
    "                qr_data = decoded_qr_codes[0].data.decode('utf-8')\n",
    "                new_filename = f\"{qr_data}.png\"\n",
    "                new_file_path = os.path.join(output_directory, new_filename)\n",
    "                image.save(new_file_path)\n",
    "                print(f\"Saved renamed file {new_filename} to {output_directory}\")\n",
    "            else:\n",
    "                print(f\"No QR code or multiple QR codes found in {file_path}\")\n",
    "        except: \n",
    "            pass\n",
    "\n",
    "# Example usage:\n",
    "rename_files_based_on_qr_code('./OriginalImages/', './RenamedImages/')\n"
   ]
  }
 ],
 "metadata": {
  "language_info": {
   "name": "python"
  }
 },
 "nbformat": 4,
 "nbformat_minor": 2
}
